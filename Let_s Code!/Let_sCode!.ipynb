{
 "cells": [
  {
   "cell_type": "code",
   "execution_count": 1,
   "id": "74901e3e",
   "metadata": {},
   "outputs": [
    {
     "name": "stdout",
     "output_type": "stream",
     "text": [
      "\n",
      "Member name: Albania\n",
      "Member value: 355\n"
     ]
    }
   ],
   "source": [
    "from enum import Enum\n",
    "class Country(Enum):\n",
    "    Afghanistan = 93\n",
    "    Albania = 355\n",
    "    Algeria = 213\n",
    "    Andorra = 376\n",
    "    Angola = 244\n",
    "    Antarctica = 672\n",
    "print('\\nMember name: {}'.format(Country.Albania.name))\n",
    "print('Member value: {}'.format(Country.Albania.value))\n"
   ]
  },
  {
   "cell_type": "code",
   "execution_count": null,
   "id": "80748a17",
   "metadata": {},
   "outputs": [],
   "source": []
  }
 ],
 "metadata": {
  "kernelspec": {
   "display_name": "Python 3 (ipykernel)",
   "language": "python",
   "name": "python3"
  },
  "language_info": {
   "codemirror_mode": {
    "name": "ipython",
    "version": 3
   },
   "file_extension": ".py",
   "mimetype": "text/x-python",
   "name": "python",
   "nbconvert_exporter": "python",
   "pygments_lexer": "ipython3",
   "version": "3.8.12"
  }
 },
 "nbformat": 4,
 "nbformat_minor": 5
}
